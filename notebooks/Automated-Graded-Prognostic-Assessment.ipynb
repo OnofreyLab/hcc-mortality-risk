{
 "cells": [
  {
   "cell_type": "code",
   "execution_count": 1,
   "metadata": {},
   "outputs": [],
   "source": [
    "import numpy as np\n",
    "import pandas as pd\n",
    "import matplotlib.pyplot as plt\n",
    "%matplotlib inline\n",
    "\n",
    "from sklearn.model_selection import train_test_split\n",
    "from sksurv.ensemble import RandomSurvivalForest\n",
    "\n",
    "import eli5\n",
    "from eli5.sklearn import PermutationImportance\n"
   ]
  },
  {
   "cell_type": "code",
   "execution_count": 2,
   "metadata": {},
   "outputs": [],
   "source": [
    "def exclude_correlated_features_trainingset(input_df, threshold =0.90):\n",
    "    df = input_df.copy()\n",
    "    \n",
    "    cor_matrix = df.corr().abs()\n",
    "    upper_tri = cor_matrix.where(np.triu(np.ones(cor_matrix.shape),k=1).astype(np.bool))\n",
    "    to_drop = [column for column in upper_tri.columns if any(upper_tri[column] > threshold)]\n",
    "    \n",
    "    new_df = df.drop(df[to_drop], axis=1)\n",
    "    \n",
    "    return new_df, to_drop"
   ]
  },
  {
   "cell_type": "code",
   "execution_count": 3,
   "metadata": {},
   "outputs": [],
   "source": [
    "def drop_correlated_features_evaluation(input_df, to_drop):\n",
    "    df = input_df.copy()\n",
    "    new_df = df.drop(df[to_drop], axis=1)\n",
    "    return new_df"
   ]
  },
  {
   "cell_type": "markdown",
   "metadata": {},
   "source": [
    "## Load the dataset."
   ]
  },
  {
   "cell_type": "code",
   "execution_count": 4,
   "metadata": {},
   "outputs": [
    {
     "data": {
      "text/html": [
       "<div>\n",
       "<style scoped>\n",
       "    .dataframe tbody tr th:only-of-type {\n",
       "        vertical-align: middle;\n",
       "    }\n",
       "\n",
       "    .dataframe tbody tr th {\n",
       "        vertical-align: top;\n",
       "    }\n",
       "\n",
       "    .dataframe thead th {\n",
       "        text-align: right;\n",
       "    }\n",
       "</style>\n",
       "<table border=\"1\" class=\"dataframe\">\n",
       "  <thead>\n",
       "    <tr style=\"text-align: right;\">\n",
       "      <th></th>\n",
       "      <th>log-sigma-1-0-mm-3D_firstorder_10Percentile_pre</th>\n",
       "      <th>log-sigma-1-0-mm-3D_firstorder_90Percentile_pre</th>\n",
       "      <th>log-sigma-1-0-mm-3D_firstorder_Energy_pre</th>\n",
       "      <th>log-sigma-1-0-mm-3D_firstorder_Entropy_pre</th>\n",
       "      <th>log-sigma-1-0-mm-3D_firstorder_InterquartileRange_pre</th>\n",
       "      <th>log-sigma-1-0-mm-3D_firstorder_Kurtosis_pre</th>\n",
       "      <th>log-sigma-1-0-mm-3D_firstorder_Maximum_pre</th>\n",
       "      <th>log-sigma-1-0-mm-3D_firstorder_MeanAbsoluteDeviation_pre</th>\n",
       "      <th>log-sigma-1-0-mm-3D_firstorder_Mean_pre</th>\n",
       "      <th>log-sigma-1-0-mm-3D_firstorder_Median_pre</th>\n",
       "      <th>...</th>\n",
       "      <th>lab_total_bili</th>\n",
       "      <th>lab_serum_alb</th>\n",
       "      <th>lab_INR</th>\n",
       "      <th>lab_sodium</th>\n",
       "      <th>lab_creatinine</th>\n",
       "      <th>lab_direct_bili</th>\n",
       "      <th>lab_ptt</th>\n",
       "      <th>METS</th>\n",
       "      <th>DEAD</th>\n",
       "      <th>SURVIVAL</th>\n",
       "    </tr>\n",
       "  </thead>\n",
       "  <tbody>\n",
       "    <tr>\n",
       "      <th>0</th>\n",
       "      <td>-10.059183</td>\n",
       "      <td>5.745775</td>\n",
       "      <td>4.107325e+07</td>\n",
       "      <td>1.079902</td>\n",
       "      <td>7.013954</td>\n",
       "      <td>9.529045</td>\n",
       "      <td>82.802605</td>\n",
       "      <td>5.188680</td>\n",
       "      <td>-1.943173</td>\n",
       "      <td>-1.266524</td>\n",
       "      <td>...</td>\n",
       "      <td>1.33</td>\n",
       "      <td>2.9</td>\n",
       "      <td>1.07</td>\n",
       "      <td>138.0</td>\n",
       "      <td>1.100</td>\n",
       "      <td>0.430</td>\n",
       "      <td>11.70</td>\n",
       "      <td>1.0</td>\n",
       "      <td>True</td>\n",
       "      <td>105</td>\n",
       "    </tr>\n",
       "    <tr>\n",
       "      <th>1</th>\n",
       "      <td>-9.126845</td>\n",
       "      <td>5.881439</td>\n",
       "      <td>6.134392e+07</td>\n",
       "      <td>1.083674</td>\n",
       "      <td>6.751441</td>\n",
       "      <td>8.286864</td>\n",
       "      <td>82.595139</td>\n",
       "      <td>4.918833</td>\n",
       "      <td>-1.306885</td>\n",
       "      <td>-0.704091</td>\n",
       "      <td>...</td>\n",
       "      <td>0.30</td>\n",
       "      <td>3.5</td>\n",
       "      <td>0.97</td>\n",
       "      <td>141.0</td>\n",
       "      <td>1.170</td>\n",
       "      <td>0.200</td>\n",
       "      <td>10.90</td>\n",
       "      <td>0.0</td>\n",
       "      <td>False</td>\n",
       "      <td>974</td>\n",
       "    </tr>\n",
       "    <tr>\n",
       "      <th>2</th>\n",
       "      <td>-15.583829</td>\n",
       "      <td>10.506743</td>\n",
       "      <td>6.463516e+07</td>\n",
       "      <td>1.264821</td>\n",
       "      <td>9.072473</td>\n",
       "      <td>7.380540</td>\n",
       "      <td>100.180374</td>\n",
       "      <td>7.854720</td>\n",
       "      <td>-2.162958</td>\n",
       "      <td>-0.544937</td>\n",
       "      <td>...</td>\n",
       "      <td>1.19</td>\n",
       "      <td>3.0</td>\n",
       "      <td>1.60</td>\n",
       "      <td>139.0</td>\n",
       "      <td>0.775</td>\n",
       "      <td>0.505</td>\n",
       "      <td>15.85</td>\n",
       "      <td>0.0</td>\n",
       "      <td>True</td>\n",
       "      <td>212</td>\n",
       "    </tr>\n",
       "    <tr>\n",
       "      <th>3</th>\n",
       "      <td>-13.333085</td>\n",
       "      <td>11.715394</td>\n",
       "      <td>1.642372e+08</td>\n",
       "      <td>1.178096</td>\n",
       "      <td>12.550628</td>\n",
       "      <td>6.660825</td>\n",
       "      <td>121.306679</td>\n",
       "      <td>7.978263</td>\n",
       "      <td>-0.824225</td>\n",
       "      <td>-0.844899</td>\n",
       "      <td>...</td>\n",
       "      <td>0.70</td>\n",
       "      <td>3.7</td>\n",
       "      <td>0.90</td>\n",
       "      <td>136.0</td>\n",
       "      <td>0.730</td>\n",
       "      <td>0.215</td>\n",
       "      <td>11.30</td>\n",
       "      <td>0.0</td>\n",
       "      <td>False</td>\n",
       "      <td>856</td>\n",
       "    </tr>\n",
       "    <tr>\n",
       "      <th>4</th>\n",
       "      <td>-19.478720</td>\n",
       "      <td>15.217196</td>\n",
       "      <td>1.075018e+08</td>\n",
       "      <td>1.429544</td>\n",
       "      <td>17.504348</td>\n",
       "      <td>4.219180</td>\n",
       "      <td>87.393265</td>\n",
       "      <td>11.002891</td>\n",
       "      <td>-1.919913</td>\n",
       "      <td>-1.638360</td>\n",
       "      <td>...</td>\n",
       "      <td>3.46</td>\n",
       "      <td>3.1</td>\n",
       "      <td>1.16</td>\n",
       "      <td>131.0</td>\n",
       "      <td>0.800</td>\n",
       "      <td>1.130</td>\n",
       "      <td>13.30</td>\n",
       "      <td>0.0</td>\n",
       "      <td>True</td>\n",
       "      <td>177</td>\n",
       "    </tr>\n",
       "    <tr>\n",
       "      <th>...</th>\n",
       "      <td>...</td>\n",
       "      <td>...</td>\n",
       "      <td>...</td>\n",
       "      <td>...</td>\n",
       "      <td>...</td>\n",
       "      <td>...</td>\n",
       "      <td>...</td>\n",
       "      <td>...</td>\n",
       "      <td>...</td>\n",
       "      <td>...</td>\n",
       "      <td>...</td>\n",
       "      <td>...</td>\n",
       "      <td>...</td>\n",
       "      <td>...</td>\n",
       "      <td>...</td>\n",
       "      <td>...</td>\n",
       "      <td>...</td>\n",
       "      <td>...</td>\n",
       "      <td>...</td>\n",
       "      <td>...</td>\n",
       "      <td>...</td>\n",
       "    </tr>\n",
       "    <tr>\n",
       "      <th>550</th>\n",
       "      <td>-9.472473</td>\n",
       "      <td>6.006749</td>\n",
       "      <td>3.779490e+07</td>\n",
       "      <td>1.046511</td>\n",
       "      <td>7.333974</td>\n",
       "      <td>6.446112</td>\n",
       "      <td>64.962936</td>\n",
       "      <td>4.996937</td>\n",
       "      <td>-1.438888</td>\n",
       "      <td>-1.064579</td>\n",
       "      <td>...</td>\n",
       "      <td>1.48</td>\n",
       "      <td>2.7</td>\n",
       "      <td>1.17</td>\n",
       "      <td>135.0</td>\n",
       "      <td>1.000</td>\n",
       "      <td>0.640</td>\n",
       "      <td>13.00</td>\n",
       "      <td>0.0</td>\n",
       "      <td>True</td>\n",
       "      <td>500</td>\n",
       "    </tr>\n",
       "    <tr>\n",
       "      <th>551</th>\n",
       "      <td>-11.148445</td>\n",
       "      <td>6.849886</td>\n",
       "      <td>6.125577e+07</td>\n",
       "      <td>1.142745</td>\n",
       "      <td>8.217744</td>\n",
       "      <td>8.180785</td>\n",
       "      <td>90.151703</td>\n",
       "      <td>5.956414</td>\n",
       "      <td>-1.833336</td>\n",
       "      <td>-1.201947</td>\n",
       "      <td>...</td>\n",
       "      <td>1.00</td>\n",
       "      <td>4.0</td>\n",
       "      <td>1.04</td>\n",
       "      <td>141.0</td>\n",
       "      <td>0.760</td>\n",
       "      <td>0.300</td>\n",
       "      <td>11.50</td>\n",
       "      <td>0.0</td>\n",
       "      <td>False</td>\n",
       "      <td>858</td>\n",
       "    </tr>\n",
       "    <tr>\n",
       "      <th>552</th>\n",
       "      <td>-14.544942</td>\n",
       "      <td>10.197468</td>\n",
       "      <td>6.777509e+07</td>\n",
       "      <td>1.231157</td>\n",
       "      <td>11.572974</td>\n",
       "      <td>5.518432</td>\n",
       "      <td>75.665199</td>\n",
       "      <td>7.913425</td>\n",
       "      <td>-1.933288</td>\n",
       "      <td>-1.501237</td>\n",
       "      <td>...</td>\n",
       "      <td>1.50</td>\n",
       "      <td>3.5</td>\n",
       "      <td>1.11</td>\n",
       "      <td>139.0</td>\n",
       "      <td>0.700</td>\n",
       "      <td>1.230</td>\n",
       "      <td>14.10</td>\n",
       "      <td>0.0</td>\n",
       "      <td>False</td>\n",
       "      <td>494</td>\n",
       "    </tr>\n",
       "    <tr>\n",
       "      <th>553</th>\n",
       "      <td>-9.644036</td>\n",
       "      <td>6.424202</td>\n",
       "      <td>2.951602e+07</td>\n",
       "      <td>1.029232</td>\n",
       "      <td>7.437437</td>\n",
       "      <td>5.661589</td>\n",
       "      <td>51.036461</td>\n",
       "      <td>5.060680</td>\n",
       "      <td>-1.447211</td>\n",
       "      <td>-1.028005</td>\n",
       "      <td>...</td>\n",
       "      <td>0.82</td>\n",
       "      <td>3.2</td>\n",
       "      <td>0.98</td>\n",
       "      <td>138.0</td>\n",
       "      <td>0.500</td>\n",
       "      <td>0.420</td>\n",
       "      <td>11.70</td>\n",
       "      <td>0.0</td>\n",
       "      <td>True</td>\n",
       "      <td>760</td>\n",
       "    </tr>\n",
       "    <tr>\n",
       "      <th>554</th>\n",
       "      <td>-12.735992</td>\n",
       "      <td>8.719771</td>\n",
       "      <td>7.670022e+07</td>\n",
       "      <td>1.174923</td>\n",
       "      <td>10.057605</td>\n",
       "      <td>6.835586</td>\n",
       "      <td>102.151695</td>\n",
       "      <td>6.947338</td>\n",
       "      <td>-1.689537</td>\n",
       "      <td>-1.083552</td>\n",
       "      <td>...</td>\n",
       "      <td>0.61</td>\n",
       "      <td>3.9</td>\n",
       "      <td>0.91</td>\n",
       "      <td>140.0</td>\n",
       "      <td>1.000</td>\n",
       "      <td>0.240</td>\n",
       "      <td>11.10</td>\n",
       "      <td>0.0</td>\n",
       "      <td>False</td>\n",
       "      <td>2779</td>\n",
       "    </tr>\n",
       "  </tbody>\n",
       "</table>\n",
       "<p>555 rows × 4489 columns</p>\n",
       "</div>"
      ],
      "text/plain": [
       "     log-sigma-1-0-mm-3D_firstorder_10Percentile_pre  \\\n",
       "0                                         -10.059183   \n",
       "1                                          -9.126845   \n",
       "2                                         -15.583829   \n",
       "3                                         -13.333085   \n",
       "4                                         -19.478720   \n",
       "..                                               ...   \n",
       "550                                        -9.472473   \n",
       "551                                       -11.148445   \n",
       "552                                       -14.544942   \n",
       "553                                        -9.644036   \n",
       "554                                       -12.735992   \n",
       "\n",
       "     log-sigma-1-0-mm-3D_firstorder_90Percentile_pre  \\\n",
       "0                                           5.745775   \n",
       "1                                           5.881439   \n",
       "2                                          10.506743   \n",
       "3                                          11.715394   \n",
       "4                                          15.217196   \n",
       "..                                               ...   \n",
       "550                                         6.006749   \n",
       "551                                         6.849886   \n",
       "552                                        10.197468   \n",
       "553                                         6.424202   \n",
       "554                                         8.719771   \n",
       "\n",
       "     log-sigma-1-0-mm-3D_firstorder_Energy_pre  \\\n",
       "0                                 4.107325e+07   \n",
       "1                                 6.134392e+07   \n",
       "2                                 6.463516e+07   \n",
       "3                                 1.642372e+08   \n",
       "4                                 1.075018e+08   \n",
       "..                                         ...   \n",
       "550                               3.779490e+07   \n",
       "551                               6.125577e+07   \n",
       "552                               6.777509e+07   \n",
       "553                               2.951602e+07   \n",
       "554                               7.670022e+07   \n",
       "\n",
       "     log-sigma-1-0-mm-3D_firstorder_Entropy_pre  \\\n",
       "0                                      1.079902   \n",
       "1                                      1.083674   \n",
       "2                                      1.264821   \n",
       "3                                      1.178096   \n",
       "4                                      1.429544   \n",
       "..                                          ...   \n",
       "550                                    1.046511   \n",
       "551                                    1.142745   \n",
       "552                                    1.231157   \n",
       "553                                    1.029232   \n",
       "554                                    1.174923   \n",
       "\n",
       "     log-sigma-1-0-mm-3D_firstorder_InterquartileRange_pre  \\\n",
       "0                                             7.013954       \n",
       "1                                             6.751441       \n",
       "2                                             9.072473       \n",
       "3                                            12.550628       \n",
       "4                                            17.504348       \n",
       "..                                                 ...       \n",
       "550                                           7.333974       \n",
       "551                                           8.217744       \n",
       "552                                          11.572974       \n",
       "553                                           7.437437       \n",
       "554                                          10.057605       \n",
       "\n",
       "     log-sigma-1-0-mm-3D_firstorder_Kurtosis_pre  \\\n",
       "0                                       9.529045   \n",
       "1                                       8.286864   \n",
       "2                                       7.380540   \n",
       "3                                       6.660825   \n",
       "4                                       4.219180   \n",
       "..                                           ...   \n",
       "550                                     6.446112   \n",
       "551                                     8.180785   \n",
       "552                                     5.518432   \n",
       "553                                     5.661589   \n",
       "554                                     6.835586   \n",
       "\n",
       "     log-sigma-1-0-mm-3D_firstorder_Maximum_pre  \\\n",
       "0                                     82.802605   \n",
       "1                                     82.595139   \n",
       "2                                    100.180374   \n",
       "3                                    121.306679   \n",
       "4                                     87.393265   \n",
       "..                                          ...   \n",
       "550                                   64.962936   \n",
       "551                                   90.151703   \n",
       "552                                   75.665199   \n",
       "553                                   51.036461   \n",
       "554                                  102.151695   \n",
       "\n",
       "     log-sigma-1-0-mm-3D_firstorder_MeanAbsoluteDeviation_pre  \\\n",
       "0                                             5.188680          \n",
       "1                                             4.918833          \n",
       "2                                             7.854720          \n",
       "3                                             7.978263          \n",
       "4                                            11.002891          \n",
       "..                                                 ...          \n",
       "550                                           4.996937          \n",
       "551                                           5.956414          \n",
       "552                                           7.913425          \n",
       "553                                           5.060680          \n",
       "554                                           6.947338          \n",
       "\n",
       "     log-sigma-1-0-mm-3D_firstorder_Mean_pre  \\\n",
       "0                                  -1.943173   \n",
       "1                                  -1.306885   \n",
       "2                                  -2.162958   \n",
       "3                                  -0.824225   \n",
       "4                                  -1.919913   \n",
       "..                                       ...   \n",
       "550                                -1.438888   \n",
       "551                                -1.833336   \n",
       "552                                -1.933288   \n",
       "553                                -1.447211   \n",
       "554                                -1.689537   \n",
       "\n",
       "     log-sigma-1-0-mm-3D_firstorder_Median_pre  ...  lab_total_bili  \\\n",
       "0                                    -1.266524  ...            1.33   \n",
       "1                                    -0.704091  ...            0.30   \n",
       "2                                    -0.544937  ...            1.19   \n",
       "3                                    -0.844899  ...            0.70   \n",
       "4                                    -1.638360  ...            3.46   \n",
       "..                                         ...  ...             ...   \n",
       "550                                  -1.064579  ...            1.48   \n",
       "551                                  -1.201947  ...            1.00   \n",
       "552                                  -1.501237  ...            1.50   \n",
       "553                                  -1.028005  ...            0.82   \n",
       "554                                  -1.083552  ...            0.61   \n",
       "\n",
       "     lab_serum_alb  lab_INR  lab_sodium  lab_creatinine  lab_direct_bili  \\\n",
       "0              2.9     1.07       138.0           1.100            0.430   \n",
       "1              3.5     0.97       141.0           1.170            0.200   \n",
       "2              3.0     1.60       139.0           0.775            0.505   \n",
       "3              3.7     0.90       136.0           0.730            0.215   \n",
       "4              3.1     1.16       131.0           0.800            1.130   \n",
       "..             ...      ...         ...             ...              ...   \n",
       "550            2.7     1.17       135.0           1.000            0.640   \n",
       "551            4.0     1.04       141.0           0.760            0.300   \n",
       "552            3.5     1.11       139.0           0.700            1.230   \n",
       "553            3.2     0.98       138.0           0.500            0.420   \n",
       "554            3.9     0.91       140.0           1.000            0.240   \n",
       "\n",
       "     lab_ptt  METS   DEAD  SURVIVAL  \n",
       "0      11.70   1.0   True       105  \n",
       "1      10.90   0.0  False       974  \n",
       "2      15.85   0.0   True       212  \n",
       "3      11.30   0.0  False       856  \n",
       "4      13.30   0.0   True       177  \n",
       "..       ...   ...    ...       ...  \n",
       "550    13.00   0.0   True       500  \n",
       "551    11.50   0.0  False       858  \n",
       "552    14.10   0.0  False       494  \n",
       "553    11.70   0.0   True       760  \n",
       "554    11.10   0.0  False      2779  \n",
       "\n",
       "[555 rows x 4489 columns]"
      ]
     },
     "execution_count": 4,
     "metadata": {},
     "output_type": "execute_result"
    }
   ],
   "source": [
    "df = pd.read_csv('hcc_mortality_risk_prediction.csv')\n",
    "df"
   ]
  },
  {
   "cell_type": "markdown",
   "metadata": {},
   "source": [
    "## Train the framework."
   ]
  },
  {
   "cell_type": "code",
   "execution_count": 5,
   "metadata": {},
   "outputs": [],
   "source": [
    "df_train, df_test = train_test_split(df,test_size=0.15, random_state=111)\n",
    " \n",
    "X_train = df_train.drop([\"DEAD\",\"SURVIVAL\"], axis=1)\n",
    "X_test = df_test.drop([\"DEAD\",\"SURVIVAL\"], axis=1)    \n",
    "    \n",
    "y_train = df_train[[\"DEAD\",\"SURVIVAL\"]].to_records(index=False)    \n",
    "y_test = df_test[[\"DEAD\",\"SURVIVAL\"]].to_records(index=False)"
   ]
  },
  {
   "cell_type": "markdown",
   "metadata": {},
   "source": [
    "## Exclusion of all candidate variables with a Pearson correlation coefficient >0.9 in the development cohort to reduce multicollinearity."
   ]
  },
  {
   "cell_type": "code",
   "execution_count": 6,
   "metadata": {},
   "outputs": [
    {
     "name": "stdout",
     "output_type": "stream",
     "text": [
      "n dropped features =  3264\n",
      "Number of Training features after Exclusion of highly correlated features = 1223\n"
     ]
    }
   ],
   "source": [
    "X_train, to_drop = exclude_correlated_features_trainingset(X_train)\n",
    "print('n dropped features = ', len(to_drop))\n",
    "print('Number of Training features after Exclusion of highly correlated features =', X_train.shape[1])\n",
    "X_test = drop_correlated_features_evaluation(X_test, to_drop)"
   ]
  },
  {
   "cell_type": "code",
   "execution_count": 7,
   "metadata": {},
   "outputs": [
    {
     "data": {
      "text/plain": [
       "(471, 1223)"
      ]
     },
     "execution_count": 7,
     "metadata": {},
     "output_type": "execute_result"
    }
   ],
   "source": [
    "X_train.shape"
   ]
  },
  {
   "cell_type": "code",
   "execution_count": 8,
   "metadata": {},
   "outputs": [
    {
     "data": {
      "text/plain": [
       "(84, 1223)"
      ]
     },
     "execution_count": 8,
     "metadata": {},
     "output_type": "execute_result"
    }
   ],
   "source": [
    "X_test.shape"
   ]
  },
  {
   "cell_type": "code",
   "execution_count": 9,
   "metadata": {},
   "outputs": [
    {
     "data": {
      "text/plain": [
       "(471,)"
      ]
     },
     "execution_count": 9,
     "metadata": {},
     "output_type": "execute_result"
    }
   ],
   "source": [
    "y_train.shape"
   ]
  },
  {
   "cell_type": "code",
   "execution_count": 10,
   "metadata": {},
   "outputs": [
    {
     "data": {
      "text/plain": [
       "(84,)"
      ]
     },
     "execution_count": 10,
     "metadata": {},
     "output_type": "execute_result"
    }
   ],
   "source": [
    "y_test.shape"
   ]
  },
  {
   "cell_type": "markdown",
   "metadata": {},
   "source": [
    "## A Random Survival Forest model is fit on the remaining candidate variables and a ranked list of variable importance scores is obtainedby ten permutations of random shuffling."
   ]
  },
  {
   "cell_type": "code",
   "execution_count": 11,
   "metadata": {
    "scrolled": true
   },
   "outputs": [
    {
     "name": "stdout",
     "output_type": "stream",
     "text": [
      "BASIC RSF TRAINING c-Index 0.878042189263516\n",
      "BASIC RSF TESTING  c-Index 0.7456318569687119\n"
     ]
    }
   ],
   "source": [
    "# basic rsf for feature selection\n",
    "basic_rsf = RandomSurvivalForest(n_estimators=1000,\n",
    "                               min_samples_split=10,\n",
    "                               min_samples_leaf=15,\n",
    "                               max_features=\"sqrt\",\n",
    "                               n_jobs=-1,\n",
    "                               random_state=0)\n",
    "\n",
    "basic_rsf.fit(X_train, y_train)\n",
    "\n",
    "print('BASIC RSF TRAINING c-Index', basic_rsf.score(X_train, y_train))\n",
    "print('BASIC RSF TESTING  c-Index', basic_rsf.score(X_test, y_test))"
   ]
  },
  {
   "cell_type": "code",
   "execution_count": null,
   "metadata": {},
   "outputs": [],
   "source": [
    "perm = PermutationImportance(basic_rsf, n_iter=10, random_state=0)\n",
    "\n",
    "train_feature_importance = perm.fit(X_train, y_train)\n",
    "feature_names = X_train.columns.tolist()"
   ]
  },
  {
   "cell_type": "markdown",
   "metadata": {},
   "source": [
    "## The final survival model is fit on the 30 top most important variables."
   ]
  },
  {
   "cell_type": "code",
   "execution_count": null,
   "metadata": {},
   "outputs": [],
   "source": [
    "important_features_30 = eli5.explain_weights_df(perm, feature_names=feature_names).iloc[:30]['feature'].values\n",
    "\n",
    "    \n",
    "important_30_rsf = RandomSurvivalForest(n_estimators=1000,\n",
    "                                   min_samples_split=10,\n",
    "                                   min_samples_leaf=15,\n",
    "                                   max_features=\"sqrt\",\n",
    "                                   n_jobs=-1,\n",
    "                                   random_state=0)\n",
    "\n",
    "   \n",
    "important_30_rsf.fit(X_train[important_features_30], y_train)"
   ]
  },
  {
   "cell_type": "code",
   "execution_count": 19,
   "metadata": {},
   "outputs": [
    {
     "name": "stdout",
     "output_type": "stream",
     "text": [
      "RSF-30 TRAINING c-Index 0.8503346209483841\n",
      "RSF-30 TESTING  c-Index 0.8232425843153189\n"
     ]
    }
   ],
   "source": [
    "print('RSF-30 TRAINING c-Index', important_30_rsf.score(X_train[important_features_30], y_train))\n",
    "print('RSF-30 TESTING  c-Index', important_30_rsf.score(X_test[important_features_30], y_test))"
   ]
  },
  {
   "cell_type": "markdown",
   "metadata": {},
   "source": [
    "## Prediction of risk scores."
   ]
  },
  {
   "cell_type": "code",
   "execution_count": null,
   "metadata": {},
   "outputs": [],
   "source": [
    "df_train['SurvPred'] = important_30_rsf.predict(df_train[important_features_30])\n",
    "df_test['SurvPred']  = important_30_rsf.predict(df_test[important_features_30])"
   ]
  },
  {
   "cell_type": "code",
   "execution_count": null,
   "metadata": {},
   "outputs": [],
   "source": [
    "df_train['DATA_SPLIT'] = 'Train'\n",
    "df_test['DATA_SPLIT'] = 'Test'\n",
    "\n",
    "df_master = pd.concat([df_train, df_test])\n",
    "df_master.to_csv('PerformanceEvaluation.csv')"
   ]
  },
  {
   "cell_type": "markdown",
   "metadata": {},
   "source": [
    "## To gain further insight and interpretability of the final model, we obtain variable importance scores by ten permutations of random shuffling for all 30 included variables. "
   ]
  },
  {
   "cell_type": "code",
   "execution_count": 43,
   "metadata": {},
   "outputs": [],
   "source": [
    "perm_30_rsf = PermutationImportance(important_30_rsf, n_iter=10, random_state=0)\n",
    "\n",
    "train_feature_importance = perm_30_rsf.fit(X_train[important_features_30], y_train)\n",
    "feature_names_30_rsf = X_train[important_features_30].columns.tolist()\n",
    "\n",
    "\n",
    "eli5.explain_weights_df(perm_30_rsf, feature_names=feature_names_30_rsf).iloc[:30].to_csv('FeatureImportances.csv')"
   ]
  }
 ],
 "metadata": {
  "kernelspec": {
   "display_name": "Python 3",
   "language": "python",
   "name": "python3"
  },
  "language_info": {
   "codemirror_mode": {
    "name": "ipython",
    "version": 3
   },
   "file_extension": ".py",
   "mimetype": "text/x-python",
   "name": "python",
   "nbconvert_exporter": "python",
   "pygments_lexer": "ipython3",
   "version": "3.8.3"
  }
 },
 "nbformat": 4,
 "nbformat_minor": 4
}
